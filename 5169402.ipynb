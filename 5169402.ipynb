{
 "cells": [
  {
   "cell_type": "markdown",
   "metadata": {
    "collapsed": false
   },
   "source": [
    "# 简介\n",
    "\n",
    "参考项目https://aistudio.baidu.com/aistudio/projectdetail/615795\n"
   ]
  },
  {
   "cell_type": "markdown",
   "metadata": {
    "collapsed": false
   },
   "source": [
    "# 赛题说明\n",
    "**赛题背景**\n",
    "\n",
    "中文场景文字识别技术在人们的日常生活中受到广泛关注，具有丰富的应用场景，如：拍照翻译、图像检索、场景理解等。然而，中文场景中的文字面临着包括光照变化、低分辨率、字体以及排布多样性、中文字符种类多等复杂情况。如何解决上述问题成为一项极具挑战性的任务。\n",
    "\n",
    "本次飞桨常规赛以 中文场景文字识别 为主题，由2019第二届中国AI+创新创业全国大赛降低难度而来，提供大规模的中文场景文字识别数据，旨在为研究者提供学术交流平台，进一步推动中文场景文字识别算法与技术的突破。\n",
    "\n",
    "**比赛任务**\n",
    "\n",
    "要求选手必须使用飞桨对图像区域中的文字行进行预测，返回文字行的内容。\n",
    "\n",
    "**数据集介绍**\n",
    "\n",
    "本次竞赛数据集共包括33万张图片，其中21万张图片作为训练集，12万张作为测试集。数据集采自中国街景，并由街景图片中的文字行区域（例如店铺标牌、地标等等）截取出来而形成。所有图像都经过一些预处理，将文字区域利用仿射变化，等比映射为一张高为48像素的图片，如下图1所示：\n",
    "\n",
    "![](https://ai-studio-static-online.cdn.bcebos.com/fb3cf59747e04f0cb9adde6a5a1945b3d9ef82f3b7c14c98bf248eb1c3886a3f)\n",
    "\n",
    "\n",
    "(a) 标注：魅派集成吊顶\n",
    "\n",
    "![](https://ai-studio-static-online.cdn.bcebos.com/57d58a35e1f34278bdb013b3f945ab69cddacf37c7fe40deba3c124fa1249753)\n",
    "\n",
    "\n",
    "(b) 标注：母婴用品连锁\n",
    "图1\n",
    "\n",
    "**标注文件**\n",
    "\n",
    "平台提供的标注文件为.txt文件格式。样例如下：\n",
    "\n",
    "\n",
    "\n",
    "| h | w | name | value |\n",
    "| -------- | -------- | -------- |-------- |\n",
    "| 128 | 48 | img_1.jpg | 文本1|\n",
    "| 56\t| 48\t| img_2.jpg|\t文本2|\n",
    "其中，文件中的四列分别是图片的宽、高、文件名和文字标注。"
   ]
  },
  {
   "cell_type": "markdown",
   "metadata": {
    "collapsed": false
   },
   "source": [
    "# 安装第三方库\n",
    "\n",
    "将安装目录设置为external-libraries，这样项目重启后安装的库不会消失。"
   ]
  },
  {
   "cell_type": "code",
   "execution_count": null,
   "metadata": {
    "collapsed": false
   },
   "outputs": [
    {
     "name": "stdout",
     "output_type": "stream",
     "text": [
      "mkdir: cannot create directory ‘/home/aistudio/external-libraries’: File exists\n",
      "Looking in indexes: https://mirror.baidu.com/pypi/simple\n",
      "Requirement already satisfied: tqdm in /opt/conda/envs/python35-paddle120-env/lib/python3.7/site-packages (4.36.1)\n",
      "Collecting paddlepaddle-gpu==1.7.1.post97\n",
      "\u001b[?25l  Downloading https://mirror.baidu.com/pypi/packages/31/b0/54f9450eb71a23aad0edf69d52423529a09dcc4c0ffa650ff5ba1feb0572/paddlepaddle_gpu-1.7.1.post97-cp37-cp37m-manylinux1_x86_64.whl (251.6MB)\n",
      "\u001b[K     |████████████████████████████████| 251.6MB 16kB/s  eta 0:00:011   |▌                               | 4.2MB 12.1MB/s eta 0:00:21     |█▌                              | 11.6MB 8.7MB/s eta 0:00:28     |██▌                             | 19.2MB 8.7MB/s eta 0:00:27     |███                             | 23.1MB 9.2MB/s eta 0:00:25     |███▎                            | 25.9MB 9.2MB/s eta 0:00:25     |███▊                            | 29.1MB 9.2MB/s eta 0:00:25     |███▉                            | 30.2MB 9.2MB/s eta 0:00:24     |████▏                           | 32.9MB 8.1MB/s eta 0:00:27     |█████                           | 38.9MB 8.1MB/s eta 0:00:27     |█████                           | 40.0MB 8.1MB/s eta 0:00:27     |██████                          | 47.9MB 8.5MB/s eta 0:00:25     |███████▎                        | 57.2MB 8.1MB/s eta 0:00:24     |███████▍                        | 57.7MB 8.1MB/s eta 0:00:24     |███████▌                        | 58.7MB 8.1MB/s eta 0:00:24     |████████▏                       | 64.2MB 11.0MB/s eta 0:00:18     |████████▊                       | 68.6MB 11.0MB/s eta 0:00:17     |█████████                       | 70.8MB 11.0MB/s eta 0:00:17     |█████████                       | 71.3MB 11.0MB/s eta 0:00:17     |█████████▌                      | 74.6MB 10.0MB/s eta 0:00:18     |██████████▋                     | 83.7MB 10.0MB/s eta 0:00:17     |███████████▏                    | 87.4MB 10.1MB/s eta 0:00:17     |████████████                    | 94.5MB 7.0MB/s eta 0:00:23     |█████████████                   | 103.0MB 7.0MB/s eta 0:00:22     |█████████████▎                  | 104.6MB 9.9MB/s eta 0:00:15     |██████████████                  | 109.8MB 9.9MB/s eta 0:00:15     |██████████████▌                 | 113.6MB 9.9MB/s eta 0:00:14     |███████████████                 | 118.5MB 9.2MB/s eta 0:00:15     |████████████████▋               | 130.4MB 6.3MB/s eta 0:00:20     |████████████████▊               | 131.1MB 6.3MB/s eta 0:00:20     |█████████████████▎              | 136.2MB 8.3MB/s eta 0:00:14     |█████████████████▌              | 137.8MB 8.3MB/s eta 0:00:14     |█████████████████▋              | 138.9MB 8.3MB/s eta 0:00:14     |█████████████████████████▊      | 201.9MB 8.3MB/s eta 0:00:07\n",
      "\u001b[?25hRequirement already satisfied: decorator in /opt/conda/envs/python35-paddle120-env/lib/python3.7/site-packages (from paddlepaddle-gpu==1.7.1.post97) (4.4.0)\n",
      "Requirement already satisfied: rarfile in /opt/conda/envs/python35-paddle120-env/lib/python3.7/site-packages (from paddlepaddle-gpu==1.7.1.post97) (3.1)\n",
      "Requirement already satisfied: matplotlib; python_version >= \"3.6\" in /opt/conda/envs/python35-paddle120-env/lib/python3.7/site-packages (from paddlepaddle-gpu==1.7.1.post97) (2.2.3)\n",
      "Requirement already satisfied: Pillow in /opt/conda/envs/python35-paddle120-env/lib/python3.7/site-packages (from paddlepaddle-gpu==1.7.1.post97) (6.2.0)\n",
      "Requirement already satisfied: six in /opt/conda/envs/python35-paddle120-env/lib/python3.7/site-packages (from paddlepaddle-gpu==1.7.1.post97) (1.12.0)\n",
      "Requirement already satisfied: nltk; python_version >= \"3.5\" in /opt/conda/envs/python35-paddle120-env/lib/python3.7/site-packages (from paddlepaddle-gpu==1.7.1.post97) (3.4.5)\n",
      "Requirement already satisfied: requests>=2.20.0 in /opt/conda/envs/python35-paddle120-env/lib/python3.7/site-packages (from paddlepaddle-gpu==1.7.1.post97) (2.22.0)\n",
      "Requirement already satisfied: pyyaml in /opt/conda/envs/python35-paddle120-env/lib/python3.7/site-packages (from paddlepaddle-gpu==1.7.1.post97) (5.1.2)\n",
      "Requirement already satisfied: scipy<=1.3.1; python_version >= \"3.5\" in /opt/conda/envs/python35-paddle120-env/lib/python3.7/site-packages (from paddlepaddle-gpu==1.7.1.post97) (1.3.0)\n",
      "Requirement already satisfied: objgraph in /opt/conda/envs/python35-paddle120-env/lib/python3.7/site-packages (from paddlepaddle-gpu==1.7.1.post97) (3.4.1)\n",
      "Requirement already satisfied: numpy>=1.12; python_version >= \"3.5\" in /opt/conda/envs/python35-paddle120-env/lib/python3.7/site-packages (from paddlepaddle-gpu==1.7.1.post97) (1.16.4)\n",
      "Requirement already satisfied: prettytable in /opt/conda/envs/python35-paddle120-env/lib/python3.7/site-packages (from paddlepaddle-gpu==1.7.1.post97) (0.7.2)\n",
      "Requirement already satisfied: funcsigs in /opt/conda/envs/python35-paddle120-env/lib/python3.7/site-packages (from paddlepaddle-gpu==1.7.1.post97) (1.0.2)\n",
      "Requirement already satisfied: protobuf>=3.1.0 in /opt/conda/envs/python35-paddle120-env/lib/python3.7/site-packages (from paddlepaddle-gpu==1.7.1.post97) (3.10.0)\n",
      "Requirement already satisfied: graphviz in /opt/conda/envs/python35-paddle120-env/lib/python3.7/site-packages (from paddlepaddle-gpu==1.7.1.post97) (0.13)\n",
      "Requirement already satisfied: opencv-python in /opt/conda/envs/python35-paddle120-env/lib/python3.7/site-packages (from paddlepaddle-gpu==1.7.1.post97) (4.1.1.26)\n",
      "Requirement already satisfied: kiwisolver>=1.0.1 in /opt/conda/envs/python35-paddle120-env/lib/python3.7/site-packages (from matplotlib; python_version >= \"3.6\"->paddlepaddle-gpu==1.7.1.post97) (1.1.0)\n",
      "Requirement already satisfied: cycler>=0.10 in /opt/conda/envs/python35-paddle120-env/lib/python3.7/site-packages (from matplotlib; python_version >= \"3.6\"->paddlepaddle-gpu==1.7.1.post97) (0.10.0)\n",
      "Requirement already satisfied: pytz in /opt/conda/envs/python35-paddle120-env/lib/python3.7/site-packages (from matplotlib; python_version >= \"3.6\"->paddlepaddle-gpu==1.7.1.post97) (2019.3)\n",
      "Requirement already satisfied: python-dateutil>=2.1 in /opt/conda/envs/python35-paddle120-env/lib/python3.7/site-packages (from matplotlib; python_version >= \"3.6\"->paddlepaddle-gpu==1.7.1.post97) (2.8.0)\n",
      "Requirement already satisfied: pyparsing!=2.0.4,!=2.1.2,!=2.1.6,>=2.0.1 in /opt/conda/envs/python35-paddle120-env/lib/python3.7/site-packages (from matplotlib; python_version >= \"3.6\"->paddlepaddle-gpu==1.7.1.post97) (2.4.2)\n",
      "Requirement already satisfied: idna<2.9,>=2.5 in /opt/conda/envs/python35-paddle120-env/lib/python3.7/site-packages (from requests>=2.20.0->paddlepaddle-gpu==1.7.1.post97) (2.8)\n",
      "Requirement already satisfied: chardet<3.1.0,>=3.0.2 in /opt/conda/envs/python35-paddle120-env/lib/python3.7/site-packages (from requests>=2.20.0->paddlepaddle-gpu==1.7.1.post97) (3.0.4)\n",
      "Requirement already satisfied: urllib3!=1.25.0,!=1.25.1,<1.26,>=1.21.1 in /opt/conda/envs/python35-paddle120-env/lib/python3.7/site-packages (from requests>=2.20.0->paddlepaddle-gpu==1.7.1.post97) (1.25.6)\n",
      "Requirement already satisfied: certifi>=2017.4.17 in /opt/conda/envs/python35-paddle120-env/lib/python3.7/site-packages (from requests>=2.20.0->paddlepaddle-gpu==1.7.1.post97) (2019.9.11)\n",
      "Requirement already satisfied: setuptools in /opt/conda/envs/python35-paddle120-env/lib/python3.7/site-packages (from protobuf>=3.1.0->paddlepaddle-gpu==1.7.1.post97) (41.4.0)\n",
      "Installing collected packages: paddlepaddle-gpu\n",
      "  Found existing installation: paddlepaddle-gpu 1.6.2.post97\n",
      "    Uninstalling paddlepaddle-gpu-1.6.2.post97:\n",
      "      Successfully uninstalled paddlepaddle-gpu-1.6.2.post97\n",
      "Successfully installed paddlepaddle-gpu-1.7.1.post97\n",
      "Looking in indexes: https://pypi.mirrors.ustc.edu.cn/simple/\n",
      "Collecting pqi\n",
      "  Downloading https://mirrors.tuna.tsinghua.edu.cn/pypi/web/packages/33/a0/c446aed3d2a2aee6603baa430979c402859821a9bf02c23f59500171c9d2/pqi-2.0.6.tar.gz\n",
      "Collecting docopt (from pqi)\n",
      "  Downloading https://mirrors.tuna.tsinghua.edu.cn/pypi/web/packages/a2/55/8f8cab2afd404cf578136ef2cc5dfb50baa1761b68c9da1fb1e4eed343c9/docopt-0.6.2.tar.gz\n",
      "Building wheels for collected packages: pqi, docopt\n",
      "  Building wheel for pqi (setup.py) ... \u001b[?25ldone\n",
      "\u001b[?25h  Created wheel for pqi: filename=pqi-2.0.6-cp37-none-any.whl size=4442 sha256=b6706f5f7844175a839d6ba050a5c886a5b4373b61bc036d83d799fc59ee3e6f\n",
      "  Stored in directory: /home/aistudio/.cache/pip/wheels/48/fd/38/33cc1dfe8e5e1cc73405c79d90f1ccaab9abdc02efcfc802e1\n",
      "  Building wheel for docopt (setup.py) ... \u001b[?25ldone\n",
      "\u001b[?25h  Created wheel for docopt: filename=docopt-0.6.2-py2.py3-none-any.whl size=13704 sha256=cece02da188bee245cd0d0651b70d0a3168432dd304965c652a1acde15a0e871\n",
      "  Stored in directory: /home/aistudio/.cache/pip/wheels/78/da/5a/be54433e626178926da00dbc53e06294ba87ec2c37dded83b4\n",
      "Successfully built pqi docopt\n",
      "Installing collected packages: docopt, pqi\n",
      "Successfully installed docopt-0.6.2 pqi-2.0.6\n",
      "\n",
      "Source is changed to aliyun(https://mirrors.aliyun.com/pypi/simple/).\n",
      "\n",
      "Looking in indexes: https://mirrors.aliyun.com/pypi/simple/\n",
      "Requirement already satisfied: tqdm in /opt/conda/envs/python35-paddle120-env/lib/python3.7/site-packages (4.36.1)\n",
      "Collecting imgaug\n",
      "\u001b[?25l  Downloading https://mirrors.aliyun.com/pypi/packages/66/b1/af3142c4a85cba6da9f4ebb5ff4e21e2616309552caca5e8acefe9840622/imgaug-0.4.0-py2.py3-none-any.whl (948kB)\n",
      "\u001b[K     |████████████████████████████████| 952kB 2.7MB/s eta 0:00:01\n",
      "\u001b[?25hCollecting lmdb\n",
      "\u001b[?25l  Downloading https://mirrors.aliyun.com/pypi/packages/3b/66/aa6f3a3e338a3ca263575ce6f722c2fdcd21039a03b55c722e0ae0b216db/lmdb-0.99.tar.gz (995kB)\n",
      "\u001b[K     |████████████████████████████████| 1.0MB 30.8MB/s eta 0:00:01\n",
      "\u001b[?25hRequirement already satisfied: matplotlib in /opt/conda/envs/python35-paddle120-env/lib/python3.7/site-packages (2.2.3)\n",
      "Requirement already satisfied: opencv-python in /opt/conda/envs/python35-paddle120-env/lib/python3.7/site-packages (4.1.1.26)\n",
      "Requirement already satisfied: Pillow in /opt/conda/envs/python35-paddle120-env/lib/python3.7/site-packages (6.2.0)\n",
      "Collecting python-Levenshtein\n",
      "\u001b[?25l  Downloading https://mirrors.aliyun.com/pypi/packages/42/a9/d1785c85ebf9b7dfacd08938dd028209c34a0ea3b1bcdb895208bd40a67d/python-Levenshtein-0.12.0.tar.gz (48kB)\n",
      "\u001b[K     |████████████████████████████████| 51kB 38.6MB/s eta 0:00:01\n",
      "\u001b[?25hRequirement already satisfied: PyYAML in /opt/conda/envs/python35-paddle120-env/lib/python3.7/site-packages (5.1.2)\n",
      "Collecting trdg\n",
      "\u001b[?25l  Downloading https://mirrors.aliyun.com/pypi/packages/53/de/c9783021266b0bf81386eb83590e0280c6fe15ca8a49d700bc2d9675d4c4/trdg-1.6.0-py3-none-any.whl (49.9MB)\n",
      "\u001b[K     |████████████████████████████████| 49.9MB 18.6MB/s eta 0:00:01    |█                               | 1.6MB 31.2MB/s eta 0:00:02     |█▋                              | 2.5MB 31.2MB/s eta 0:00:02     |██████████▋                     | 16.6MB 7.0MB/s eta 0:00:05     |████████████████▏               | 25.3MB 7.1MB/s eta 0:00:04     |████████████████████▏           | 31.4MB 6.9MB/s eta 0:00:03     |█████████████████████           | 32.9MB 6.9MB/s eta 0:00:03     |████████████████████████▏       | 37.6MB 6.9MB/s eta 0:00:02   | 42.6MB 18.6MB/s eta 0:00:01\n",
      "\u001b[?25hCollecting anyconfig\n",
      "\u001b[?25l  Downloading https://mirrors.aliyun.com/pypi/packages/aa/f9/2cbd60fbd63ba604ebe449c1e4488bbaddd7cd1fee3a3920ca8077ce9bff/anyconfig-0.9.11-py2.py3-none-any.whl (66kB)\n",
      "\u001b[K     |████████████████████████████████| 71kB 45.5MB/s eta 0:00:01\n",
      "\u001b[?25hRequirement already satisfied: numpy>=1.15 in /opt/conda/envs/python35-paddle120-env/lib/python3.7/site-packages (from imgaug) (1.16.4)\n",
      "Requirement already satisfied: scipy in /opt/conda/envs/python35-paddle120-env/lib/python3.7/site-packages (from imgaug) (1.3.0)\n",
      "Collecting scikit-image>=0.14.2 (from imgaug)\n",
      "\u001b[?25l  Downloading https://mirrors.aliyun.com/pypi/packages/d7/ee/753ea56fda5bc2a5516a1becb631bf5ada593a2dd44f21971a13a762d4db/scikit_image-0.17.2-cp37-cp37m-manylinux1_x86_64.whl (12.5MB)\n",
      "\u001b[K     |████████████████████████████████| 12.5MB 56.3MB/s eta 0:00:01\n",
      "\u001b[?25hCollecting Shapely (from imgaug)\n",
      "\u001b[?25l  Downloading https://mirrors.aliyun.com/pypi/packages/98/f8/db4d3426a1aba9d5dfcc83ed5a3e2935d2b1deb73d350642931791a61c37/Shapely-1.7.1-cp37-cp37m-manylinux1_x86_64.whl (1.0MB)\n",
      "\u001b[K     |████████████████████████████████| 1.0MB 53.5MB/s eta 0:00:01\n",
      "\u001b[?25hRequirement already satisfied: six in /opt/conda/envs/python35-paddle120-env/lib/python3.7/site-packages (from imgaug) (1.12.0)\n",
      "Requirement already satisfied: imageio in /opt/conda/envs/python35-paddle120-env/lib/python3.7/site-packages (from imgaug) (2.6.1)\n",
      "Requirement already satisfied: kiwisolver>=1.0.1 in /opt/conda/envs/python35-paddle120-env/lib/python3.7/site-packages (from matplotlib) (1.1.0)\n",
      "Requirement already satisfied: pyparsing!=2.0.4,!=2.1.2,!=2.1.6,>=2.0.1 in /opt/conda/envs/python35-paddle120-env/lib/python3.7/site-packages (from matplotlib) (2.4.2)\n",
      "Requirement already satisfied: pytz in /opt/conda/envs/python35-paddle120-env/lib/python3.7/site-packages (from matplotlib) (2019.3)\n",
      "Requirement already satisfied: cycler>=0.10 in /opt/conda/envs/python35-paddle120-env/lib/python3.7/site-packages (from matplotlib) (0.10.0)\n",
      "Requirement already satisfied: python-dateutil>=2.1 in /opt/conda/envs/python35-paddle120-env/lib/python3.7/site-packages (from matplotlib) (2.8.0)\n",
      "Requirement already satisfied: setuptools in /opt/conda/envs/python35-paddle120-env/lib/python3.7/site-packages (from python-Levenshtein) (41.4.0)\n",
      "Collecting diffimg==0.2.3 (from trdg)\n",
      "  Downloading https://mirrors.aliyun.com/pypi/packages/3d/fa/de925a7c2203b52f007ad6b9cce343c21dbe389a221a4f51f25960c83d8b/diffimg-0.2.3.tar.gz\n",
      "Collecting beautifulsoup4>=4.6.0 (from trdg)\n",
      "\u001b[?25l  Downloading https://mirrors.aliyun.com/pypi/packages/66/25/ff030e2437265616a1e9b25ccc864e0371a0bc3adb7c5a404fd661c6f4f6/beautifulsoup4-4.9.1-py3-none-any.whl (115kB)\n",
      "\u001b[K     |████████████████████████████████| 122kB 23.8MB/s eta 0:00:01\n",
      "\u001b[?25hRequirement already satisfied: requests>=2.20.0 in /opt/conda/envs/python35-paddle120-env/lib/python3.7/site-packages (from trdg) (2.22.0)\n",
      "Collecting tifffile>=2019.7.26 (from scikit-image>=0.14.2->imgaug)\n",
      "\u001b[?25l  Downloading https://mirrors.aliyun.com/pypi/packages/3f/51/151f2c5b89af5a3ebbe9d1078ce598abeeb6802b6cf568350914746d1c4c/tifffile-2020.8.13-py3-none-any.whl (146kB)\n",
      "\u001b[K     |████████████████████████████████| 153kB 51.2MB/s eta 0:00:01\n",
      "\u001b[?25hRequirement already satisfied: networkx>=2.0 in /opt/conda/envs/python35-paddle120-env/lib/python3.7/site-packages (from scikit-image>=0.14.2->imgaug) (2.4)\n",
      "Collecting PyWavelets>=1.1.1 (from scikit-image>=0.14.2->imgaug)\n",
      "\u001b[?25l  Downloading https://mirrors.aliyun.com/pypi/packages/62/bd/592c7242fdd1218a96431512e77265c50812315ef72570ace85e1cfae298/PyWavelets-1.1.1-cp37-cp37m-manylinux1_x86_64.whl (4.4MB)\n",
      "\u001b[K     |████████████████████████████████| 4.4MB 52.7MB/s eta 0:00:01     |██████████████████████▍         | 3.1MB 52.7MB/s eta 0:00:01     |█████████████████████████████▍  | 4.0MB 52.7MB/s eta 0:00:01     |████████████████████████████████| 4.4MB 52.7MB/s eta 0:00:01\n",
      "\u001b[?25hCollecting soupsieve>1.2 (from beautifulsoup4>=4.6.0->trdg)\n",
      "  Downloading https://mirrors.aliyun.com/pypi/packages/6f/8f/457f4a5390eeae1cc3aeab89deb7724c965be841ffca6cfca9197482e470/soupsieve-2.0.1-py3-none-any.whl\n",
      "Requirement already satisfied: idna<2.9,>=2.5 in /opt/conda/envs/python35-paddle120-env/lib/python3.7/site-packages (from requests>=2.20.0->trdg) (2.8)\n",
      "Requirement already satisfied: urllib3!=1.25.0,!=1.25.1,<1.26,>=1.21.1 in /opt/conda/envs/python35-paddle120-env/lib/python3.7/site-packages (from requests>=2.20.0->trdg) (1.25.6)\n",
      "Requirement already satisfied: chardet<3.1.0,>=3.0.2 in /opt/conda/envs/python35-paddle120-env/lib/python3.7/site-packages (from requests>=2.20.0->trdg) (3.0.4)\n",
      "Requirement already satisfied: certifi>=2017.4.17 in /opt/conda/envs/python35-paddle120-env/lib/python3.7/site-packages (from requests>=2.20.0->trdg) (2019.9.11)\n",
      "Requirement already satisfied: decorator>=4.3.0 in /opt/conda/envs/python35-paddle120-env/lib/python3.7/site-packages (from networkx>=2.0->scikit-image>=0.14.2->imgaug) (4.4.0)\n",
      "Building wheels for collected packages: lmdb, python-Levenshtein, diffimg\n",
      "  Building wheel for lmdb (setup.py) ... \u001b[?25ldone\n",
      "\u001b[?25h  Created wheel for lmdb: filename=lmdb-0.99-cp37-cp37m-linux_x86_64.whl size=266337 sha256=430587538a0705cb5adff0b285cdc2d7792463420dd4a6a89c3f9cba8b4d5546\n",
      "  Stored in directory: /home/aistudio/.cache/pip/wheels/74/e8/7f/6288c315e3c3aa8eab1edafb215b79eaf86c4469b743bdcba5\n",
      "  Building wheel for python-Levenshtein (setup.py) ... \u001b[?25ldone\n",
      "\u001b[?25h  Created wheel for python-Levenshtein: filename=python_Levenshtein-0.12.0-cp37-cp37m-linux_x86_64.whl size=156978 sha256=6993d22709d6372243b13dd057c9bde5669f4d9c73e746582594c11ca40ffb19\n",
      "  Stored in directory: /home/aistudio/.cache/pip/wheels/d7/57/8b/ce088b5c9e117924868370865a19022d28d2ee6465546f3df8\n",
      "  Building wheel for diffimg (setup.py) ... \u001b[?25ldone\n",
      "\u001b[?25h  Created wheel for diffimg: filename=diffimg-0.2.3-cp37-none-any.whl size=4050 sha256=5c5ceb269f686977c3355573092c9dd9d16ebda160c707fac4b455108d240c73\n",
      "  Stored in directory: /home/aistudio/.cache/pip/wheels/70/b8/cf/783065bf363fd70e7a5a58dafd8b40667db51a8aa9f8935557\n",
      "Successfully built lmdb python-Levenshtein diffimg\n",
      "\u001b[31mERROR: trdg 1.6.0 has requirement numpy>=1.17.3, but you'll have numpy 1.16.4 which is incompatible.\u001b[0m\n",
      "\u001b[31mERROR: trdg 1.6.0 has requirement opencv-python>=4.2.0.32, but you'll have opencv-python 4.1.1.26 which is incompatible.\u001b[0m\n",
      "\u001b[31mERROR: trdg 1.6.0 has requirement pillow==7.0.0, but you'll have pillow 6.2.0 which is incompatible.\u001b[0m\n",
      "Installing collected packages: tifffile, PyWavelets, scikit-image, Shapely, imgaug, lmdb, python-Levenshtein, diffimg, soupsieve, beautifulsoup4, trdg, anyconfig\n",
      "Successfully installed PyWavelets-1.1.1 Shapely-1.7.1 anyconfig-0.9.11 beautifulsoup4-4.9.1 diffimg-0.2.3 imgaug-0.4.0 lmdb-0.99 python-Levenshtein-0.12.0 scikit-image-0.17.2 soupsieve-2.0.1 tifffile-2020.8.13 trdg-1.6.0\n"
     ]
    }
   ],
   "source": [
    "!mkdir /home/aistudio/external-libraries\r\n",
    "import sys\r\n",
    "sys.path.append('/home/aistudio/external-libraries')\r\n",
    "! pip install tqdm paddlepaddle-gpu==1.7.1.post97 -i https://mirror.baidu.com/pypi/simple\r\n",
    "! pip install pqi\r\n",
    "! pqi use aliyun\r\n",
    "! pip install tqdm imgaug lmdb matplotlib opencv-python Pillow python-Levenshtein PyYAML trdg anyconfig # -t /home/aistudio/external-libraries"
   ]
  },
  {
   "cell_type": "markdown",
   "metadata": {
    "collapsed": false
   },
   "source": [
    "# 解压文件\n",
    "\n",
    "压缩包内含训练集图片、训练集图片信息、测试集图片"
   ]
  },
  {
   "cell_type": "code",
   "execution_count": null,
   "metadata": {
    "collapsed": false
   },
   "outputs": [],
   "source": [
    "import os\n",
    "os.chdir('/home/aistudio/data/data10879')\n",
    "! tar -zxf train_img.tar.gz\n",
    "! tar -zxf test_img.tar.gz "
   ]
  },
  {
   "cell_type": "markdown",
   "metadata": {
    "collapsed": false
   },
   "source": [
    "# 预处理\n",
    "\n",
    "* 文件 langconv(language convert)，这个文件用来把繁体字转成简体字<br>\n",
    "\n",
    "* 函数 read_ims_list：读取train.list文件，生成图片的信息字典\n",
    "* 函数 modify_ch：对标签label进行修改，进行四项操作，分别是“繁体->简体”、“大写->小写”、“删除空格”、“删除符号”。\n",
    "* 函数 pipeline：调用定义的函数，对训练数据进行初步处理。"
   ]
  },
  {
   "cell_type": "code",
   "execution_count": null,
   "metadata": {
    "collapsed": false
   },
   "outputs": [
    {
     "name": "stdout",
     "output_type": "stream",
     "text": [
      "class num: 3827\n",
      "训练集数量: 200342, 验证集数量: 10544\n"
     ]
    }
   ],
   "source": [
    "from work.langconv import Converter\n",
    "import codecs\n",
    "import random\n",
    "import sys\n",
    "import os\n",
    "from os.path import join as pjoin\n",
    "\n",
    "os.chdir('/home/aistudio')\n",
    "sys.path.append('/home/aistudio/work')\n",
    "def read_ims_list(path_ims_list):\n",
    "    \"\"\"\n",
    "    读取 train.list 文件\n",
    "    \"\"\"\n",
    "    ims_info_dic = {}\n",
    "    with open(path_ims_list, 'r', encoding='utf-8') as f:\n",
    "        for line in f:\n",
    "            parts = line.strip().split(maxsplit=3)\n",
    "            w, h, file, label = parts[0], parts[1], parts[2], parts[3]\n",
    "            ims_info_dic[file] = {'label': label, 'w': int(w)}\n",
    "    return ims_info_dic\n",
    "    \n",
    "\n",
    "def modify_ch(label):\n",
    "    # 繁体 -> 简体\n",
    "    label = Converter(\"zh-hans\").convert(label)\n",
    "\n",
    "    # 大写 -> 小写\n",
    "    label = label.lower()\n",
    "\n",
    "    # 删除空格\n",
    "    label = label.replace(' ', '')\n",
    "\n",
    "    # 删除符号\n",
    "    for ch in label:\n",
    "        if (not '\\u4e00' <= ch <= '\\u9fff') and (not ch.isalnum()):\n",
    "            label = label.replace(ch, '')\n",
    "\n",
    "    return label\n",
    "\n",
    "def save_txt(data, file_path):\n",
    "    \"\"\"\n",
    "    将一个list的数组写入txt文件里\n",
    "    :param data:\n",
    "    :param file_path:\n",
    "    :return:\n",
    "    \"\"\"\n",
    "    if not isinstance(data, list):\n",
    "        data = [data]\n",
    "    with open(file_path, mode='w', encoding='utf8') as f:\n",
    "        f.write('\\n'.join(data))\n",
    "\n",
    "def pipeline(dataset_dir):\n",
    "    path_ims        = pjoin(dataset_dir, \"train_images\")\n",
    "    path_ims_list   = pjoin(dataset_dir, \"train.list\")\n",
    "    path_train_list = pjoin('/home/aistudio/work', \"train.txt\")\n",
    "    path_test_list  = pjoin('/home/aistudio/work', \"test.txt\")\n",
    "    path_label_list = pjoin('/home/aistudio/work', \"dict.txt\")\n",
    "\n",
    "    # 读取数据信息\n",
    "    file_info_dic = read_ims_list(path_ims_list)\n",
    "\n",
    "    # 创建 train.txt\n",
    "    class_set = set()\n",
    "    data_list = []\n",
    "    for file, info in file_info_dic.items():\n",
    "        label = info['label']\n",
    "        label = modify_ch(label)\n",
    "\n",
    "        # 异常: 标签为空\n",
    "        if label == '':\n",
    "            continue\n",
    "\n",
    "        for e in label:\n",
    "            class_set.add(e)\n",
    "        data_list.append(\"{0}\\t{1}\".format(pjoin('/home/aistudio/',path_ims, file), label))\n",
    "        \n",
    "    # 创建 label_list.txt\n",
    "    class_list = list(class_set)\n",
    "    class_list.sort()\n",
    "    print(\"class num: {0}\".format(len(class_list)))\n",
    "    with codecs.open(path_label_list, \"w\", encoding='utf-8') as label_list:\n",
    "        for id, c in enumerate(class_list):\n",
    "            # label_list.write(\"{0}\\t{1}\\n\".format(c, id))\n",
    "            label_list.write(\"{0}\\n\".format(c))\n",
    "\n",
    "    # 随机切分\n",
    "    random.shuffle(data_list)\n",
    "    val_len = int(len(data_list) * 0.05)\n",
    "    val_list = data_list[-val_len:]\n",
    "    train_list = data_list[:-val_len]\n",
    "    print('训练集数量: {}, 验证集数量: {}'.format(len(train_list),len(val_list)))\n",
    "    save_txt(train_list,path_train_list)\n",
    "    save_txt(val_list,path_test_list)\n",
    "    \n",
    "random.seed(0)\n",
    "pipeline(dataset_dir=\"data/data10879\")"
   ]
  },
  {
   "cell_type": "code",
   "execution_count": null,
   "metadata": {
    "collapsed": false
   },
   "outputs": [
    {
     "name": "stdout",
     "output_type": "stream",
     "text": [
      "/home/aistudio/work/PaddleOCR\r\n"
     ]
    }
   ],
   "source": [
    "os.chdir('/home/aistudio/work/PaddleOCR/')\r\n",
    "!pwd"
   ]
  },
  {
   "cell_type": "markdown",
   "metadata": {
    "collapsed": false
   },
   "source": [
    "# 特别说明\n",
    "\n",
    "对于PaddleOCR提供的配置文件rec_r34_vd_none_bilstm_ctc.yml我做出了如下修改\n",
    "\n",
    "1.将epoch_num改为120\n",
    "\n",
    "2.将train_batch_size_per_card改为256\n",
    "\n",
    "3.将test_batch_size_per_card改为128\n",
    "\n",
    "4.将base_lr改为0.00001\n",
    "\n",
    "经测试这样能提高score\n",
    "\n",
    "**由于将epoch_num改为120后使用单卡GPU训练很费时间，同时训练具有随机性不能保证训练后与我得到同样的结果，所以我将训练120epoch后生成的模型文件打包在data/data50975/文件夹中只需要将\n",
    "rec_CRNN_aug_341.zip文件解压（数据集地址：https://aistudio.baidu.com/aistudio/datasetdetail/50975），将解压后的文件替换work/PaddleOCR/output/rec_CRNN_aug_341文件夹中的文件即可跳过下面的训练步骤，可以直接进行预测。替换程序如下**"
   ]
  },
  {
   "cell_type": "code",
   "execution_count": 13,
   "metadata": {
    "collapsed": false
   },
   "outputs": [
    {
     "name": "stdout",
     "output_type": "stream",
     "text": [
      "/home/aistudio\n",
      "Archive:  rec_CRNN_aug_341.zip\n",
      "  inflating: rec_CRNN_aug_341/best_accuracy.pdmodel  \n",
      "  inflating: rec_CRNN_aug_341/best_accuracy.pdopt  \n",
      "  inflating: rec_CRNN_aug_341/best_accuracy.pdparams  \n",
      "  inflating: rec_CRNN_aug_341/latest.pdmodel  \n",
      "  inflating: rec_CRNN_aug_341/latest.pdopt  \n",
      "  inflating: rec_CRNN_aug_341/latest.pdparams  \n",
      "/home/aistudio/work/PaddleOCR/test/rec_CRNN_aug_341\n",
      "rm: cannot remove '*.pdopt': No such file or directory\n",
      "rm: cannot remove '*.pdparams': No such file or directory\n",
      "/home/aistudio\n",
      "['best_accuracy.pdopt', 'best_accuracy.pdparams', 'latest.pdopt', 'latest.pdmodel', 'latest.pdparams', 'best_accuracy.pdmodel']\n",
      "/home/aistudio/work/PaddleOCR\n"
     ]
    }
   ],
   "source": [
    "#** 注意**\n",
    "# 运行此段代码后无需运行下面的训练代码可直接进行预测（需要取消该段程序注释）\n",
    "# 若要自己训练，不要运行此段代码\n",
    "'''\n",
    "%cd ~\n",
    "import os\n",
    "import shutil\n",
    "!cd data/data50975 && unzip rec_CRNN_aug_341.zip\n",
    "%cd ~/work/PaddleOCR/output/rec_CRNN_aug_341\n",
    "!rm -r *.pdmodel\n",
    "!rm -r *.pdopt\n",
    "!rm -r *.pdparams\n",
    "%cd ~\n",
    "filelist = os.listdir('data/data50975/rec_CRNN_aug_341')\n",
    "print(filelist)\n",
    "for file in filelist:\n",
    "    src = os.path.join('data/data50975/rec_CRNN_aug_341', file)\n",
    "    dst = os.path.join('work/PaddleOCR/output/rec_CRNN_aug_341', file)\n",
    "    shutil.move(src, dst)\n",
    "os.chdir('/home/aistudio/work/PaddleOCR/')\n",
    "!pwd\n",
    "'''\n"
   ]
  },
  {
   "cell_type": "markdown",
   "metadata": {
    "collapsed": false
   },
   "source": [
    "# 模型训练"
   ]
  },
  {
   "cell_type": "code",
   "execution_count": null,
   "metadata": {
    "collapsed": false
   },
   "outputs": [
    {
     "name": "stdout",
     "output_type": "stream",
     "text": [
      "2020-08-14 06:52:50,371-INFO: Already save model in output/rec_CRNN_aug_341/latest\r"
     ]
    }
   ],
   "source": [
    "! export PYTHONPATH=$PYTHONPATH:.\r\n",
    "! python tools/train.py -c configs/rec/rec_r34_vd_none_bilstm_ctc.yml"
   ]
  },
  {
   "cell_type": "markdown",
   "metadata": {
    "collapsed": false
   },
   "source": [
    "# 模型预测"
   ]
  },
  {
   "cell_type": "code",
   "execution_count": null,
   "metadata": {
    "collapsed": false
   },
   "outputs": [
    {
     "name": "stdout",
     "output_type": "stream",
     "text": [
      "2020-08-23 16:45:43,770-INFO: {'Global': {'algorithm': 'CRNN', 'use_gpu': True, 'epoch_num': 120, 'log_smooth_window': 20, 'print_batch_step': 100, 'save_model_dir': 'output/rec_CRNN_aug_341', 'save_epoch_step': 1, 'eval_batch_step': 1800, 'train_batch_size_per_card': 256, 'test_batch_size_per_card': 128, 'image_shape': [3, 32, 256], 'max_text_length': 64, 'character_type': 'ch', 'loss_type': 'ctc', 'reader_yml': './configs/rec/rec_icdar15_reader.yml', 'pretrain_weights': '/home/aistudio/work/PaddleOCR/model/latest', 'checkpoints': 'test/rec_CRNN_aug_341/best_accuracy', 'save_inference_dir': '/home/aistudio/work/test', 'character_dict_path': '/home/aistudio/work/dict.txt'}, 'Architecture': {'function': 'ppocr.modeling.architectures.rec_model,RecModel'}, 'Backbone': {'function': 'ppocr.modeling.backbones.rec_resnet_vd,ResNet', 'layers': 34}, 'Head': {'function': 'ppocr.modeling.heads.rec_ctc_head,CTCPredict', 'encoder_type': 'rnn', 'SeqRNN': {'hidden_size': 256}}, 'Loss': {'function': 'ppocr.modeling.losses.rec_ctc_loss,CTCLoss'}, 'Optimizer': {'function': 'ppocr.optimizer,AdamDecay', 'base_lr': 1e-05, 'beta1': 0.9, 'beta2': 0.999}, 'TrainReader': {'reader_function': 'ppocr.data.rec.dataset_traversal,SimpleReader', 'num_workers': 8, 'img_set_dir': '/', 'label_file_path': '/home/aistudio/work/train.txt'}, 'EvalReader': {'reader_function': 'ppocr.data.rec.dataset_traversal,SimpleReader', 'img_set_dir': '/', 'label_file_path': '/home/aistudio/work/test.txt'}, 'TestReader': {'reader_function': 'ppocr.data.rec.dataset_traversal,SimpleReader', 'infer_img': '/home/aistudio/data/data10879/test_images'}}\n",
      "W0823 16:45:45.207783   470 device_context.cc:237] Please NOTE: device: 0, CUDA Capability: 70, Driver API Version: 9.2, Runtime API Version: 9.0\n",
      "W0823 16:45:45.269613   470 device_context.cc:245] device: 0, cuDNN Version: 7.3.\n",
      "2020-08-23 16:46:04,265-INFO: Finish initing model from test/rec_CRNN_aug_341/best_accuracy\n",
      "100%|█████████████████████████████████████| 76602/76602 [54:25<00:00, 23.46it/s]\n"
     ]
    }
   ],
   "source": [
    "! python3 tools/infer_rec.py -c configs/rec/rec_r34_vd_none_bilstm_ctc.yml -o Global.checkpoints=output/rec_CRNN_aug_341/best_accuracy"
   ]
  },
  {
   "cell_type": "code",
   "execution_count": null,
   "metadata": {
    "collapsed": false
   },
   "outputs": [
    {
     "name": "stdout",
     "output_type": "stream",
     "text": [
      "  adding: home/aistudio/ (stored 0%)\n",
      "  adding: home/aistudio/.profile (deflated 41%)\n",
      "  adding: home/aistudio/.ipython/ (stored 0%)\n",
      "  adding: home/aistudio/.ipython/profile_default/ (stored 0%)\n",
      "  adding: home/aistudio/.ipython/profile_default/pid/ (stored 0%)\n",
      "  adding: home/aistudio/.ipython/profile_default/security/ (stored 0%)\n",
      "  adding: home/aistudio/.ipython/profile_default/log/ (stored 0%)\n",
      "  adding: home/aistudio/.ipython/profile_default/history.sqlite (deflated 98%)\n",
      "  adding: home/aistudio/.ipython/profile_default/db/ (stored 0%)\n",
      "  adding: home/aistudio/.ipython/profile_default/startup/ (stored 0%)\n",
      "  adding: home/aistudio/.ipython/profile_default/startup/README (deflated 37%)\n",
      "  adding: home/aistudio/.ipython/extensions/ (stored 0%)\n",
      "  adding: home/aistudio/.ipython/nbextensions/ (stored 0%)\n",
      "  adding: home/aistudio/.cache/ (stored 0%)\n",
      "  adding: home/aistudio/.cache/yarn/ (stored 0%)\n",
      "  adding: home/aistudio/.cache/yarn/v6/ (stored 0%)\n",
      "  adding: home/aistudio/.cache/yarn/v6/.tmp/ (stored 0%)\n",
      "  adding: home/aistudio/.ipynb_checkpoints/ (stored 0%)\n",
      "  adding: home/aistudio/.ipynb_checkpoints/681670-checkpoint.ipynb (deflated 82%)\n",
      "  adding: home/aistudio/.config/ (stored 0%)\n",
      "  adding: home/aistudio/.config/pycodestyle (stored 0%)\n",
      "  adding: home/aistudio/.condarc (deflated 5%)\n",
      "  adding: home/aistudio/.pip/ (stored 0%)\n",
      "  adding: home/aistudio/.pip/pip.conf (deflated 24%)\n",
      "  adding: home/aistudio/.bash_history (stored 0%)\n",
      "  adding: home/aistudio/.viminfo (deflated 52%)\n",
      "  adding: home/aistudio/.jupyter/ (stored 0%)\n",
      "  adding: home/aistudio/.jupyter/nbconfig/ (stored 0%)\n",
      "  adding: home/aistudio/.jupyter/nbconfig/notebook.json (deflated 41%)\n",
      "  adding: home/aistudio/data/ (stored 0%)\n",
      "  adding: home/aistudio/data/data10879/ (stored 0%)\n",
      "  adding: home/aistudio/data/data10879/train.list (deflated 65%)\n",
      "  adding: home/aistudio/data/data10879/test_img.tar.gz (deflated 0%)\n",
      "  adding: home/aistudio/data/data10879/crnn_model.zip (stored 0%)\n",
      "  adding: home/aistudio/data/data10879/train_img.tar.gz"
     ]
    }
   ],
   "source": []
  }
 ],
 "metadata": {
  "kernelspec": {
   "display_name": "Python 3",
   "language": "python",
   "name": "py35-paddle1.2.0"
  },
  "language_info": {
   "codemirror_mode": {
    "name": "ipython",
    "version": 3
   },
   "file_extension": ".py",
   "mimetype": "text/x-python",
   "name": "python",
   "nbconvert_exporter": "python",
   "pygments_lexer": "ipython3",
   "version": "3.7.4"
  }
 },
 "nbformat": 4,
 "nbformat_minor": 1
}
